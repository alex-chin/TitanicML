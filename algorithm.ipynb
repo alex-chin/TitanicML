{
 "cells": [
  {
   "metadata": {},
   "cell_type": "raw",
   "source": "",
   "id": "9189c1ea3309a203"
  },
  {
   "cell_type": "code",
   "id": "initial_id",
   "metadata": {
    "collapsed": true,
    "ExecuteTime": {
     "end_time": "2025-02-03T10:57:52.674562Z",
     "start_time": "2025-02-03T10:57:52.668524Z"
    }
   },
   "source": [
    "from sort import last_index\n",
    "\n",
    "l = [25, 21, 22, 24, 23, 27, 26]"
   ],
   "outputs": [],
   "execution_count": 1
  },
  {
   "metadata": {
    "ExecuteTime": {
     "end_time": "2025-02-03T10:58:32.672498Z",
     "start_time": "2025-02-03T10:58:32.668500Z"
    }
   },
   "cell_type": "code",
   "source": "last_index = len(l) -1",
   "id": "6316b0ccaa96d128",
   "outputs": [],
   "execution_count": 2
  },
  {
   "metadata": {
    "ExecuteTime": {
     "end_time": "2025-02-03T10:58:51.956014Z",
     "start_time": "2025-02-03T10:58:51.950814Z"
    }
   },
   "cell_type": "code",
   "source": "last_index, l[last_index]",
   "id": "2f780e7248f871f3",
   "outputs": [
    {
     "data": {
      "text/plain": [
       "(6, 26)"
      ]
     },
     "execution_count": 4,
     "metadata": {},
     "output_type": "execute_result"
    }
   ],
   "execution_count": 4
  },
  {
   "metadata": {
    "ExecuteTime": {
     "end_time": "2025-02-03T11:00:11.054492Z",
     "start_time": "2025-02-03T11:00:11.050154Z"
    }
   },
   "cell_type": "code",
   "source": [
    "for i in range(last_index):\n",
    "    if l[i] > l[i+1]:\n",
    "        l[i], l[i+1] = l[i+1], l[i]\n",
    "    print(l)"
   ],
   "id": "fcf1a19670a8fe37",
   "outputs": [
    {
     "name": "stdout",
     "output_type": "stream",
     "text": [
      "[21, 25, 22, 24, 23, 27, 26]\n",
      "[21, 22, 25, 24, 23, 27, 26]\n",
      "[21, 22, 24, 25, 23, 27, 26]\n",
      "[21, 22, 24, 23, 25, 27, 26]\n",
      "[21, 22, 24, 23, 25, 27, 26]\n",
      "[21, 22, 24, 23, 25, 26, 27]\n"
     ]
    }
   ],
   "execution_count": 5
  },
  {
   "metadata": {
    "ExecuteTime": {
     "end_time": "2025-02-03T11:03:56.155525Z",
     "start_time": "2025-02-03T11:03:56.149504Z"
    }
   },
   "cell_type": "code",
   "source": "list(range(last_index,0,-1))",
   "id": "2df39c2636248aa8",
   "outputs": [
    {
     "data": {
      "text/plain": [
       "[6, 5, 4, 3, 2, 1]"
      ]
     },
     "execution_count": 6,
     "metadata": {},
     "output_type": "execute_result"
    }
   ],
   "execution_count": 6
  },
  {
   "metadata": {
    "ExecuteTime": {
     "end_time": "2025-02-03T11:04:23.451906Z",
     "start_time": "2025-02-03T11:04:23.447550Z"
    }
   },
   "cell_type": "code",
   "source": [
    "for passNo in range(last_index,0,-1):\n",
    "    for i in range(passNo-1):\n",
    "        if l[i] > l[i+1]:\n",
    "            l[i], l[i+1] = l[i+1], l[i]\n",
    "    print(f'After pass {passNo}, the list is {l}')"
   ],
   "id": "92da217a384d5e74",
   "outputs": [
    {
     "name": "stdout",
     "output_type": "stream",
     "text": [
      "After pass 6, the list is [21, 22, 23, 24, 25, 26, 27]\n",
      "After pass 5, the list is [21, 22, 23, 24, 25, 26, 27]\n",
      "After pass 4, the list is [21, 22, 23, 24, 25, 26, 27]\n",
      "After pass 3, the list is [21, 22, 23, 24, 25, 26, 27]\n",
      "After pass 2, the list is [21, 22, 23, 24, 25, 26, 27]\n",
      "After pass 1, the list is [21, 22, 23, 24, 25, 26, 27]\n"
     ]
    }
   ],
   "execution_count": 7
  }
 ],
 "metadata": {
  "kernelspec": {
   "display_name": "Python 3",
   "language": "python",
   "name": "python3"
  },
  "language_info": {
   "codemirror_mode": {
    "name": "ipython",
    "version": 2
   },
   "file_extension": ".py",
   "mimetype": "text/x-python",
   "name": "python",
   "nbconvert_exporter": "python",
   "pygments_lexer": "ipython2",
   "version": "2.7.6"
  }
 },
 "nbformat": 4,
 "nbformat_minor": 5
}
