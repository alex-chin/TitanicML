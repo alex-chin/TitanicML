{
 "cells": [
  {
   "metadata": {},
   "cell_type": "raw",
   "source": "",
   "id": "9189c1ea3309a203"
  },
  {
   "cell_type": "code",
   "id": "initial_id",
   "metadata": {
    "collapsed": true,
    "ExecuteTime": {
     "end_time": "2025-02-03T10:57:52.674562Z",
     "start_time": "2025-02-03T10:57:52.668524Z"
    }
   },
   "source": [
    "\n",
    "\n",
    "l = [25, 21, 22, 24, 23, 27, 26]"
   ],
   "outputs": [],
   "execution_count": 1
  },
  {
   "metadata": {
    "ExecuteTime": {
     "end_time": "2025-02-03T10:58:32.672498Z",
     "start_time": "2025-02-03T10:58:32.668500Z"
    }
   },
   "cell_type": "code",
   "source": "last_index = len(l) - 1",
   "id": "6316b0ccaa96d128",
   "outputs": [],
   "execution_count": 2
  },
  {
   "metadata": {
    "ExecuteTime": {
     "end_time": "2025-02-03T10:58:51.956014Z",
     "start_time": "2025-02-03T10:58:51.950814Z"
    }
   },
   "cell_type": "code",
   "source": "last_index, l[last_index]",
   "id": "2f780e7248f871f3",
   "outputs": [
    {
     "data": {
      "text/plain": [
       "(6, 26)"
      ]
     },
     "execution_count": 4,
     "metadata": {},
     "output_type": "execute_result"
    }
   ],
   "execution_count": 4
  },
  {
   "metadata": {
    "ExecuteTime": {
     "end_time": "2025-02-03T11:00:11.054492Z",
     "start_time": "2025-02-03T11:00:11.050154Z"
    }
   },
   "cell_type": "code",
   "source": [
    "for i in range(last_index):\n",
    "    if l[i] > l[i + 1]:\n",
    "        l[i], l[i + 1] = l[i + 1], l[i]\n",
    "    print(l)"
   ],
   "id": "fcf1a19670a8fe37",
   "outputs": [
    {
     "name": "stdout",
     "output_type": "stream",
     "text": [
      "[21, 25, 22, 24, 23, 27, 26]\n",
      "[21, 22, 25, 24, 23, 27, 26]\n",
      "[21, 22, 24, 25, 23, 27, 26]\n",
      "[21, 22, 24, 23, 25, 27, 26]\n",
      "[21, 22, 24, 23, 25, 27, 26]\n",
      "[21, 22, 24, 23, 25, 26, 27]\n"
     ]
    }
   ],
   "execution_count": 5
  },
  {
   "metadata": {
    "ExecuteTime": {
     "end_time": "2025-02-03T11:03:56.155525Z",
     "start_time": "2025-02-03T11:03:56.149504Z"
    }
   },
   "cell_type": "code",
   "source": "list(range(last_index, 0, -1))",
   "id": "2df39c2636248aa8",
   "outputs": [
    {
     "data": {
      "text/plain": [
       "[6, 5, 4, 3, 2, 1]"
      ]
     },
     "execution_count": 6,
     "metadata": {},
     "output_type": "execute_result"
    }
   ],
   "execution_count": 6
  },
  {
   "metadata": {
    "ExecuteTime": {
     "end_time": "2025-02-03T11:04:23.451906Z",
     "start_time": "2025-02-03T11:04:23.447550Z"
    }
   },
   "cell_type": "code",
   "source": [
    "for passNo in range(last_index, 0, -1):\n",
    "    for i in range(passNo - 1):\n",
    "        if l[i] > l[i + 1]:\n",
    "            l[i], l[i + 1] = l[i + 1], l[i]\n",
    "    print(f'After pass {passNo}, the list is {l}')"
   ],
   "id": "92da217a384d5e74",
   "outputs": [
    {
     "name": "stdout",
     "output_type": "stream",
     "text": [
      "After pass 6, the list is [21, 22, 23, 24, 25, 26, 27]\n",
      "After pass 5, the list is [21, 22, 23, 24, 25, 26, 27]\n",
      "After pass 4, the list is [21, 22, 23, 24, 25, 26, 27]\n",
      "After pass 3, the list is [21, 22, 23, 24, 25, 26, 27]\n",
      "After pass 2, the list is [21, 22, 23, 24, 25, 26, 27]\n",
      "After pass 1, the list is [21, 22, 23, 24, 25, 26, 27]\n"
     ]
    }
   ],
   "execution_count": 7
  },
  {
   "metadata": {
    "ExecuteTime": {
     "end_time": "2025-02-03T16:52:12.511668Z",
     "start_time": "2025-02-03T16:52:12.473080Z"
    }
   },
   "cell_type": "code",
   "source": "fruits_tuple = ('яблоко', 'банан', 'апельсин')",
   "id": "8682129fb4aeb789",
   "outputs": [],
   "execution_count": 8
  },
  {
   "metadata": {
    "ExecuteTime": {
     "end_time": "2025-02-03T16:52:19.081900Z",
     "start_time": "2025-02-03T16:52:19.069592Z"
    }
   },
   "cell_type": "code",
   "source": "fruits_tuple",
   "id": "87e97318bf1a77ee",
   "outputs": [
    {
     "data": {
      "text/plain": [
       "('яблоко', 'банан', 'апельсин')"
      ]
     },
     "execution_count": 9,
     "metadata": {},
     "output_type": "execute_result"
    }
   ],
   "execution_count": 9
  },
  {
   "metadata": {
    "ExecuteTime": {
     "end_time": "2025-02-03T17:13:22.029757Z",
     "start_time": "2025-02-03T17:13:22.012138Z"
    }
   },
   "cell_type": "code",
   "source": "l",
   "id": "293726ecfc1c03cc",
   "outputs": [
    {
     "data": {
      "text/plain": [
       "[21, 22, 23, 24, 25, 26, 27]"
      ]
     },
     "execution_count": 10,
     "metadata": {},
     "output_type": "execute_result"
    }
   ],
   "execution_count": 10
  },
  {
   "metadata": {},
   "cell_type": "code",
   "outputs": [],
   "execution_count": null,
   "source": "",
   "id": "3ebdb44dd748f177"
  },
  {
   "metadata": {
    "collapsed": true,
    "ExecuteTime": {
     "end_time": "2025-02-03T17:41:06.489805Z",
     "start_time": "2025-02-03T17:41:06.485582Z"
    }
   },
   "cell_type": "code",
   "source": "l = [25, 21, 22, 24, 23, 27, 26]",
   "id": "414bec3564ce7f4e",
   "outputs": [],
   "execution_count": 37
  },
  {
   "metadata": {
    "ExecuteTime": {
     "end_time": "2025-02-03T17:41:06.835099Z",
     "start_time": "2025-02-03T17:41:06.830251Z"
    }
   },
   "cell_type": "code",
   "source": [
    "def swap(m, i1, i2):\n",
    "    m[i1], m[i2] = m[i2], m[i1]"
   ],
   "id": "3a671593b35ffa1",
   "outputs": [],
   "execution_count": 38
  },
  {
   "metadata": {},
   "cell_type": "code",
   "source": [
    "def BubbleSort(l):\n",
    "    is_swap = False\n",
    "    l_length = len(l)\n",
    "    for j in range(l_length - 1):\n",
    "        for i in range(l_length - 1 - j):\n",
    "            if l[i] > l[i + 1]:\n",
    "                swap(l, i, i + 1)\n",
    "                is_swap = True\n",
    "        if not is_swap:\n",
    "            break"
   ],
   "id": "7f549068a0f3954f",
   "outputs": [],
   "execution_count": 39
  },
  {
   "metadata": {
    "ExecuteTime": {
     "end_time": "2025-02-03T17:41:09.158607Z",
     "start_time": "2025-02-03T17:41:09.151555Z"
    }
   },
   "cell_type": "code",
   "source": [
    "BubbleSort(l)\n",
    "l"
   ],
   "id": "aca7705d1acafe60",
   "outputs": [
    {
     "data": {
      "text/plain": [
       "[21, 22, 23, 24, 25, 26, 27]"
      ]
     },
     "execution_count": 40,
     "metadata": {},
     "output_type": "execute_result"
    }
   ],
   "execution_count": 40
  },
  {
   "metadata": {
    "ExecuteTime": {
     "end_time": "2025-02-03T17:54:51.626522Z",
     "start_time": "2025-02-03T17:54:51.621409Z"
    }
   },
   "cell_type": "code",
   "source": "import random",
   "id": "12f571765b6d908b",
   "outputs": [],
   "execution_count": 41
  },
  {
   "metadata": {
    "ExecuteTime": {
     "end_time": "2025-02-03T17:55:22.014752Z",
     "start_time": "2025-02-03T17:55:22.007760Z"
    }
   },
   "cell_type": "code",
   "source": "random.random()",
   "id": "e529e68b9cc4c44c",
   "outputs": [
    {
     "data": {
      "text/plain": [
       "0.9223139520155667"
      ]
     },
     "execution_count": 49,
     "metadata": {},
     "output_type": "execute_result"
    }
   ],
   "execution_count": 49
  },
  {
   "metadata": {
    "ExecuteTime": {
     "end_time": "2025-02-03T18:00:11.542424Z",
     "start_time": "2025-02-03T18:00:11.536943Z"
    }
   },
   "cell_type": "code",
   "source": [
    "import random\n",
    "\n",
    "\n",
    "green_ball_count = 0  # счётчик зелёных шаров\n",
    "\n",
    "for i in range(0,1000):\n",
    "    new_ball = random.choice(['green', 'red', 'red', 'red', 'red'])\n",
    "    if new_ball == 'green':\n",
    "        green_ball_count = green_ball_count + 1\n",
    "\n",
    "print (green_ball_count/1000)"
   ],
   "id": "ce5044ee0affa73b",
   "outputs": [
    {
     "name": "stdout",
     "output_type": "stream",
     "text": [
      "0.21\n"
     ]
    }
   ],
   "execution_count": 60
  },
  {
   "metadata": {
    "ExecuteTime": {
     "end_time": "2025-02-06T09:17:39.569006Z",
     "start_time": "2025-02-06T09:17:39.562294Z"
    }
   },
   "cell_type": "code",
   "source": [
    "tree = {\n",
    "    \"A\": {\n",
    "        \"B\": {\n",
    "            \"D\": {},\n",
    "            \"E\": {}\n",
    "        },\n",
    "        \"C\": {\n",
    "            \"F\": {},\n",
    "            \"G\": {}\n",
    "        }\n",
    "    }\n",
    "}"
   ],
   "id": "e5e2fa2577187a14",
   "outputs": [],
   "execution_count": 1
  },
  {
   "metadata": {
    "ExecuteTime": {
     "end_time": "2025-02-06T09:17:45.722527Z",
     "start_time": "2025-02-06T09:17:45.715660Z"
    }
   },
   "cell_type": "code",
   "source": "tree",
   "id": "ab9aef03040e5d3c",
   "outputs": [
    {
     "data": {
      "text/plain": [
       "{'A': {'B': {'D': {}, 'E': {}}, 'C': {'F': {}, 'G': {}}}}"
      ]
     },
     "execution_count": 2,
     "metadata": {},
     "output_type": "execute_result"
    }
   ],
   "execution_count": 2
  },
  {
   "metadata": {
    "ExecuteTime": {
     "end_time": "2025-02-06T09:24:12.515343Z",
     "start_time": "2025-02-06T09:24:12.510218Z"
    }
   },
   "cell_type": "code",
   "source": "list(tree.items())[0]",
   "id": "7c0cb0ecdd65d987",
   "outputs": [
    {
     "data": {
      "text/plain": [
       "('A', {'B': {'D': {}, 'E': {}}, 'C': {'F': {}, 'G': {}}})"
      ]
     },
     "execution_count": 9,
     "metadata": {},
     "output_type": "execute_result"
    }
   ],
   "execution_count": 9
  },
  {
   "metadata": {
    "ExecuteTime": {
     "end_time": "2025-02-06T09:22:09.087664Z",
     "start_time": "2025-02-06T09:22:08.897048Z"
    }
   },
   "cell_type": "code",
   "source": "",
   "id": "1d3b543d841f444",
   "outputs": [
    {
     "ename": "AttributeError",
     "evalue": "'dict_items' object has no attribute 'next'",
     "output_type": "error",
     "traceback": [
      "\u001B[1;31m---------------------------------------------------------------------------\u001B[0m",
      "\u001B[1;31mAttributeError\u001B[0m                            Traceback (most recent call last)",
      "Cell \u001B[1;32mIn[5], line 1\u001B[0m\n\u001B[1;32m----> 1\u001B[0m \u001B[43ml\u001B[49m\u001B[38;5;241;43m.\u001B[39;49m\u001B[43mnext\u001B[49m()\n",
      "\u001B[1;31mAttributeError\u001B[0m: 'dict_items' object has no attribute 'next'"
     ]
    }
   ],
   "execution_count": 5
  },
  {
   "metadata": {
    "ExecuteTime": {
     "end_time": "2025-02-06T09:25:48.296972Z",
     "start_time": "2025-02-06T09:25:48.292680Z"
    }
   },
   "cell_type": "code",
   "source": [
    "def dfs_go(tree, path):\n",
    "    for key, subtree in tree.items():\n",
    "        new_path = f\"{path}/{key}\"\n",
    "        print(new_path)\n",
    "        dfs_go(subtree, new_path)"
   ],
   "id": "c0be65c822f4506a",
   "outputs": [],
   "execution_count": 10
  },
  {
   "metadata": {
    "ExecuteTime": {
     "end_time": "2025-02-06T09:26:01.496657Z",
     "start_time": "2025-02-06T09:26:01.492438Z"
    }
   },
   "cell_type": "code",
   "source": "dfs_go(tree,'')",
   "id": "55a43ba5eae40bc8",
   "outputs": [
    {
     "name": "stdout",
     "output_type": "stream",
     "text": [
      "/A\n",
      "/A/B\n",
      "/A/B/D\n",
      "/A/B/E\n",
      "/A/C\n",
      "/A/C/F\n",
      "/A/C/G\n"
     ]
    }
   ],
   "execution_count": 11
  },
  {
   "metadata": {},
   "cell_type": "code",
   "outputs": [],
   "execution_count": null,
   "source": "",
   "id": "7ee86c764a774649"
  }
 ],
 "metadata": {
  "kernelspec": {
   "display_name": "Python 3",
   "language": "python",
   "name": "python3"
  },
  "language_info": {
   "codemirror_mode": {
    "name": "ipython",
    "version": 2
   },
   "file_extension": ".py",
   "mimetype": "text/x-python",
   "name": "python",
   "nbconvert_exporter": "python",
   "pygments_lexer": "ipython2",
   "version": "2.7.6"
  }
 },
 "nbformat": 4,
 "nbformat_minor": 5
}
